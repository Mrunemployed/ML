{
 "cells": [
  {
   "cell_type": "code",
   "execution_count": 44,
   "id": "2fbab364-67d7-4bc0-bea2-6bedbbe6d751",
   "metadata": {},
   "outputs": [],
   "source": [
    "import matplotlib.pyplot as plt\n",
    "import numpy as np\n",
    "import seaborn as sns"
   ]
  },
  {
   "cell_type": "markdown",
   "id": "8dd1b8ae-c25e-4505-ab6f-466566f5e2cb",
   "metadata": {},
   "source": [
    "# Decision Boundary"
   ]
  },
  {
   "cell_type": "code",
   "execution_count": 45,
   "id": "ea88311d-0f91-44eb-9771-640260a538b7",
   "metadata": {},
   "outputs": [
    {
     "name": "stdout",
     "output_type": "stream",
     "text": [
      "(6, 2) [[0]\n",
      " [0]\n",
      " [0]\n",
      " [1]\n",
      " [1]\n",
      " [1]]\n"
     ]
    }
   ],
   "source": [
    "X = np.array([[0.5, 1.5], [1,1], [1.5, 0.5], [3, 0.5], [2, 2], [1, 2.5]])\n",
    "y = np.array([0, 0, 0, 1, 1, 1]).reshape(-1,1)\n",
    "print(X.shape,y)"
   ]
  },
  {
   "cell_type": "code",
   "execution_count": 46,
   "id": "571b6fa0-018f-46df-a0af-c69990985137",
   "metadata": {},
   "outputs": [],
   "source": [
    "def plot_data(x,y,ax):\n",
    "    for i in range(x.shape[0]):\n",
    "        # ax.axis([0, 4, 0, 3.5])\n",
    "        x0,x1 = x[i]\n",
    "        if y[i] == 0:\n",
    "            ax.scatter(x0,x1,marker='o',c='b')\n",
    "        else:\n",
    "            ax.scatter(x0,x1,marker='x',c='r')"
   ]
  },
  {
   "cell_type": "code",
   "execution_count": 47,
   "id": "182fc95a-8248-4e8d-b450-bcab19387356",
   "metadata": {},
   "outputs": [
    {
     "data": {
      "image/png": "[encoded data removed]",
      "text/plain": [
       "<Figure size 640x480 with 1 Axes>"
      ]
     },
     "metadata": {},
     "output_type": "display_data"
    }
   ],
   "source": [
    "fig,ax = plt.subplots(1,1)\n",
    "plot_data(X,y,ax)\n",
    "ax.axis([0, 4, 0, 3.5])\n",
    "plt.show()"
   ]
  },
  {
   "cell_type": "markdown",
   "id": "501d2443-8c0b-4889-a85c-aff3ebb84732",
   "metadata": {},
   "source": [
    "$f_{w,b}(\\overrightarrow {x}^{(i)})$"
   ]
  },
  {
   "cell_type": "code",
   "execution_count": 48,
   "id": "6a2a1d97-04e8-4ae5-920c-a6b3bd9208b0",
   "metadata": {},
   "outputs": [
    {
     "name": "stdout",
     "output_type": "stream",
     "text": [
      "[0 1 2 3 4 5] [ 3  2  1  0 -1 -2]\n"
     ]
    }
   ],
   "source": [
    "w = 1\n",
    "b = -3\n",
    "x0 = np.arange(0,6)\n",
    "# x1 = w*-x0 -b or,\n",
    "x1 = -b - x0\n",
    "\n",
    "print(x0,x1)"
   ]
  },
  {
   "cell_type": "code",
   "execution_count": 49,
   "id": "6800fa87-4a2a-4a15-b887-ac1c6623bc4d",
   "metadata": {},
   "outputs": [
    {
     "data": {
      "image/png": "[encoded data removed]",
      "text/plain": [
       "<Figure size 400x400 with 1 Axes>"
      ]
     },
     "metadata": {},
     "output_type": "display_data"
    }
   ],
   "source": [
    "fig,ax = plt.subplots(1,1,figsize=(4,4))\n",
    "ax.plot(x0,x1,c='b')\n",
    "plot_data(X,y,ax)\n",
    "ax.axis([0, 4, 0, 3.5])\n",
    "ax.fill_between(x0,x1, alpha=0.2)\n",
    "plt.show()"
   ]
  },
  {
   "cell_type": "code",
   "execution_count": 50,
   "id": "90835c23-aa03-4b57-8d26-2624aa222881",
   "metadata": {},
   "outputs": [
    {
     "name": "stdout",
     "output_type": "stream",
     "text": [
      "[[0.5 1.5]\n",
      " [1.  1. ]\n",
      " [1.5 0.5]\n",
      " [3.  0.5]\n",
      " [2.  2. ]\n",
      " [1.  2.5]] [[0]\n",
      " [0]\n",
      " [0]\n",
      " [1]\n",
      " [1]\n",
      " [1]]\n",
      "(6, 2) (6, 1)\n"
     ]
    }
   ],
   "source": [
    "print(X,y)\n",
    "print(X.shape,y.shape)"
   ]
  },
  {
   "cell_type": "code",
   "execution_count": 51,
   "id": "d09b1461-2afb-4f51-bd1f-b303838edd6c",
   "metadata": {},
   "outputs": [],
   "source": [
    "def logistic(x,w,b):\n",
    "    g = np.zeros(x.shape[0])\n",
    "    for i in range(x.shape[m]):\n",
    "        z = np.dot(w,x) + b\n",
    "        g[i] = 1/(1 + np.exp(-z))\n",
    "    return g"
   ]
  },
  {
   "cell_type": "code",
   "execution_count": 52,
   "id": "816b624b-27d7-43ed-8fbf-ab69934921ae",
   "metadata": {},
   "outputs": [],
   "source": [
    "def sigmoid(w,x,b):\n",
    "    z = np.dot(w,x) + b\n",
    "    g_z = 1/(1+np.exp(-z))\n",
    "    return g_z"
   ]
  },
  {
   "cell_type": "code",
   "execution_count": 53,
   "id": "373767ae-9633-4eb9-b5b9-4c1eba240c56",
   "metadata": {},
   "outputs": [],
   "source": [
    "def gradient(w,x,y,b):\n",
    "    m,n = x.shape\n",
    "    dw = np.zeros(n)\n",
    "    db = 0.\n",
    "    for i in range(m):\n",
    "        f_x = sigmoid(w,x[i],b)\n",
    "        error = f_x - y[i]\n",
    "        for j in range(n):\n",
    "            dw[j] = dw[j]+error*x[i][j]\n",
    "        db = db+error\n",
    "    return dw/m,db/m"
   ]
  },
  {
   "cell_type": "code",
   "execution_count": 54,
   "id": "eac42536-a6a9-4050-b38d-15e41b382385",
   "metadata": {},
   "outputs": [
    {
     "name": "stdout",
     "output_type": "stream",
     "text": [
      "[0.49833339 0.49883943] [0.49861807]\n"
     ]
    },
    {
     "name": "stderr",
     "output_type": "stream",
     "text": [
      "C:\\Users\\rudkhan\\AppData\\Local\\Temp\\ipykernel_39768\\2339006001.py:9: DeprecationWarning: Conversion of an array with ndim > 0 to a scalar is deprecated, and will error in future. Ensure you extract a single element from your array before performing this operation. (Deprecated NumPy 1.25.)\n",
      "  dw[j] = dw[j]+error*x[i][j]\n"
     ]
    }
   ],
   "source": [
    "dw,db = gradient([2.,3.],X,y,1.)\n",
    "print(dw,db)"
   ]
  },
  {
   "cell_type": "code",
   "execution_count": 55,
   "id": "d515dc46-2525-4d73-890d-9213a4986905",
   "metadata": {},
   "outputs": [],
   "source": [
    "def gradient_descent(itr,x,y,alpha):\n",
    "    m,n = x.shape\n",
    "    w = np.zeros(n)\n",
    "    b = 0.\n",
    "    for i in range(itr):\n",
    "        dw,db = gradient(w,x,y,b)\n",
    "        w = w - alpha*dw\n",
    "        b = b - alpha*db\n",
    "        if int(i%1000) == 0:\n",
    "            print(w,b)\n",
    "    return w,b"
   ]
  },
  {
   "cell_type": "code",
   "execution_count": 60,
   "id": "a7841b16-45b4-4579-969b-4964128f592e",
   "metadata": {},
   "outputs": [
    {
     "name": "stderr",
     "output_type": "stream",
     "text": [
      "C:\\Users\\rudkhan\\AppData\\Local\\Temp\\ipykernel_39768\\2339006001.py:9: DeprecationWarning: Conversion of an array with ndim > 0 to a scalar is deprecated, and will error in future. Ensure you extract a single element from your array before performing this operation. (Deprecated NumPy 1.25.)\n",
      "  dw[j] = dw[j]+error*x[i][j]\n"
     ]
    },
    {
     "name": "stdout",
     "output_type": "stream",
     "text": [
      "[0.025      0.01666667] [0.]\n",
      "[2.30572624 2.07740353] [-5.9109933]\n",
      "[3.15508984 2.94023038] [-8.31149229]\n",
      "[3.68092411 3.47097047] [-9.78230424]\n",
      "[4.06024975 3.8527842 ] [-10.83864078]\n",
      "[4.35647898 4.15050189] [-11.66153789]\n",
      "[4.59929949 4.39430614] [-12.33499996]\n",
      "[4.80494417 4.6006459 ] [-12.90472026]\n",
      "[4.98324047 4.77945746] [-13.39826588]\n",
      "[5.14058319 4.93719618] [-13.83353047]\n"
     ]
    }
   ],
   "source": [
    "w,b = gradient_descent(10000,X,y,1.0e-1)"
   ]
  },
  {
   "cell_type": "code",
   "execution_count": 57,
   "id": "2a3f58fe-678c-4656-823b-3062bcbe43ee",
   "metadata": {},
   "outputs": [],
   "source": [
    "def predict(w,b,x):\n",
    "    z = np.dot(w,x) + b\n",
    "    g = 1/(1+np.exp(-z))\n",
    "    return g"
   ]
  },
  {
   "cell_type": "code",
   "execution_count": 58,
   "id": "47e0099e-27c0-45c3-abd8-1ec0bb52cf8c",
   "metadata": {},
   "outputs": [
    {
     "data": {
      "text/plain": [
       "array([0.98463772])"
      ]
     },
     "execution_count": 58,
     "metadata": {},
     "output_type": "execute_result"
    }
   ],
   "source": [
    "prediction = predict(w,b,[3, 0.5])\n",
    "prediction"
   ]
  },
  {
   "cell_type": "code",
   "execution_count": 26,
   "id": "232a3395-3238-44a7-87fb-6efb40b6d265",
   "metadata": {},
   "outputs": [
    {
     "data": {
      "text/html": [
       "<div>\n",
       "<style scoped>\n",
       "    .dataframe tbody tr th:only-of-type {\n",
       "        vertical-align: middle;\n",
       "    }\n",
       "\n",
       "    .dataframe tbody tr th {\n",
       "        vertical-align: top;\n",
       "    }\n",
       "\n",
       "    .dataframe thead th {\n",
       "        text-align: right;\n",
       "    }\n",
       "</style>\n",
       "<table border=\"1\" class=\"dataframe\">\n",
       "  <thead>\n",
       "    <tr style=\"text-align: right;\">\n",
       "      <th></th>\n",
       "      <th>a</th>\n",
       "      <th>b</th>\n",
       "    </tr>\n",
       "  </thead>\n",
       "  <tbody>\n",
       "    <tr>\n",
       "      <th>0</th>\n",
       "      <td>1.0</td>\n",
       "      <td>1</td>\n",
       "    </tr>\n",
       "    <tr>\n",
       "      <th>1</th>\n",
       "      <td>0.0</td>\n",
       "      <td>2</td>\n",
       "    </tr>\n",
       "    <tr>\n",
       "      <th>2</th>\n",
       "      <td>0.0</td>\n",
       "      <td>3</td>\n",
       "    </tr>\n",
       "    <tr>\n",
       "      <th>3</th>\n",
       "      <td>2.0</td>\n",
       "      <td>4</td>\n",
       "    </tr>\n",
       "    <tr>\n",
       "      <th>4</th>\n",
       "      <td>4.0</td>\n",
       "      <td>5</td>\n",
       "    </tr>\n",
       "  </tbody>\n",
       "</table>\n",
       "</div>"
      ],
      "text/plain": [
       "     a  b\n",
       "0  1.0  1\n",
       "1  0.0  2\n",
       "2  0.0  3\n",
       "3  2.0  4\n",
       "4  4.0  5"
      ]
     },
     "execution_count": 26,
     "metadata": {},
     "output_type": "execute_result"
    }
   ],
   "source": [
    "import pandas as pd\n",
    "\n",
    "data = {\"a\":[1,np.nan,np.nan,2,4],\"b\":np.array([1,2,3,4,5])}\n",
    "data1 = {\"c\":[0.1,0.4,1.9]}\n",
    "df1 = pd.DataFrame(data)\n",
    "df2 = pd.DataFrame(data1)\n",
    "df1.fillna(0.)"
   ]
  },
  {
   "cell_type": "code",
   "execution_count": 27,
   "id": "a1014a38-3efe-44a1-8484-f65f8b928ae8",
   "metadata": {},
   "outputs": [
    {
     "data": {
      "text/html": [
       "<div>\n",
       "<style scoped>\n",
       "    .dataframe tbody tr th:only-of-type {\n",
       "        vertical-align: middle;\n",
       "    }\n",
       "\n",
       "    .dataframe tbody tr th {\n",
       "        vertical-align: top;\n",
       "    }\n",
       "\n",
       "    .dataframe thead th {\n",
       "        text-align: right;\n",
       "    }\n",
       "</style>\n",
       "<table border=\"1\" class=\"dataframe\">\n",
       "  <thead>\n",
       "    <tr style=\"text-align: right;\">\n",
       "      <th></th>\n",
       "      <th>c</th>\n",
       "    </tr>\n",
       "  </thead>\n",
       "  <tbody>\n",
       "    <tr>\n",
       "      <th>0</th>\n",
       "      <td>0.1</td>\n",
       "    </tr>\n",
       "    <tr>\n",
       "      <th>1</th>\n",
       "      <td>0.4</td>\n",
       "    </tr>\n",
       "    <tr>\n",
       "      <th>2</th>\n",
       "      <td>1.9</td>\n",
       "    </tr>\n",
       "  </tbody>\n",
       "</table>\n",
       "</div>"
      ],
      "text/plain": [
       "     c\n",
       "0  0.1\n",
       "1  0.4\n",
       "2  1.9"
      ]
     },
     "execution_count": 27,
     "metadata": {},
     "output_type": "execute_result"
    }
   ],
   "source": [
    "df2"
   ]
  },
  {
   "cell_type": "code",
   "execution_count": 37,
   "id": "6e09785a-452c-49b1-b7bd-2950df60c883",
   "metadata": {},
   "outputs": [],
   "source": [
    "resdf = pd.concat([df1,df2],axis=1)"
   ]
  },
  {
   "cell_type": "code",
   "execution_count": 59,
   "id": "ba950590-f26a-4925-ac5b-6f6351212ee7",
   "metadata": {},
   "outputs": [
    {
     "data": {
      "text/html": [
       "<div>\n",
       "<style scoped>\n",
       "    .dataframe tbody tr th:only-of-type {\n",
       "        vertical-align: middle;\n",
       "    }\n",
       "\n",
       "    .dataframe tbody tr th {\n",
       "        vertical-align: top;\n",
       "    }\n",
       "\n",
       "    .dataframe thead th {\n",
       "        text-align: right;\n",
       "    }\n",
       "</style>\n",
       "<table border=\"1\" class=\"dataframe\">\n",
       "  <thead>\n",
       "    <tr style=\"text-align: right;\">\n",
       "      <th></th>\n",
       "      <th>d-merge</th>\n",
       "      <th>a</th>\n",
       "      <th>b</th>\n",
       "    </tr>\n",
       "  </thead>\n",
       "  <tbody>\n",
       "    <tr>\n",
       "      <th>0</th>\n",
       "      <td>1.0</td>\n",
       "      <td>1.0</td>\n",
       "      <td>1</td>\n",
       "    </tr>\n",
       "    <tr>\n",
       "      <th>1</th>\n",
       "      <td>2.0</td>\n",
       "      <td>NaN</td>\n",
       "      <td>2</td>\n",
       "    </tr>\n",
       "    <tr>\n",
       "      <th>2</th>\n",
       "      <td>NaN</td>\n",
       "      <td>NaN</td>\n",
       "      <td>3</td>\n",
       "    </tr>\n",
       "    <tr>\n",
       "      <th>3</th>\n",
       "      <td>NaN</td>\n",
       "      <td>2.0</td>\n",
       "      <td>4</td>\n",
       "    </tr>\n",
       "    <tr>\n",
       "      <th>4</th>\n",
       "      <td>5.0</td>\n",
       "      <td>4.0</td>\n",
       "      <td>5</td>\n",
       "    </tr>\n",
       "  </tbody>\n",
       "</table>\n",
       "</div>"
      ],
      "text/plain": [
       "   d-merge    a  b\n",
       "0      1.0  1.0  1\n",
       "1      2.0  NaN  2\n",
       "2      NaN  NaN  3\n",
       "3      NaN  2.0  4\n",
       "4      5.0  4.0  5"
      ]
     },
     "execution_count": 59,
     "metadata": {},
     "output_type": "execute_result"
    }
   ],
   "source": [
    "df3 = pd.DataFrame({\n",
    "    \"d-merge\":[1,2,5]\n",
    "})\n",
    "df3.merge(df1,how='right',left_on='d-merge',right_on='b')"
   ]
  },
  {
   "cell_type": "code",
   "execution_count": null,
   "id": "44f78fbb-ab0d-48bb-8c23-77ddfd52a58b",
   "metadata": {},
   "outputs": [],
   "source": []
  }
 ],
 "metadata": {
  "kernelspec": {
   "display_name": "Python 3 (ipykernel)",
   "language": "python",
   "name": "python3"
  },
  "language_info": {
   "codemirror_mode": {
    "name": "ipython",
    "version": 3
   },
   "file_extension": ".py",
   "mimetype": "text/x-python",
   "name": "python",
   "nbconvert_exporter": "python",
   "pygments_lexer": "ipython3",
   "version": "3.11.4"
  }
 },
 "nbformat": 4,
 "nbformat_minor": 5
}
